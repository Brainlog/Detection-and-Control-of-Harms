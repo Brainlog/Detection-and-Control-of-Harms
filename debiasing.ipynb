{
  "nbformat": 4,
  "nbformat_minor": 0,
  "metadata": {
    "colab": {
      "provenance": []
    },
    "kernelspec": {
      "name": "python3",
      "display_name": "Python 3"
    },
    "language_info": {
      "name": "python"
    }
  },
  "cells": [
    {
      "cell_type": "code",
      "execution_count": 6,
      "metadata": {
        "colab": {
          "base_uri": "https://localhost:8080/"
        },
        "id": "-uD9ta3iDPgN",
        "outputId": "55aaa2ef-93b3-4e0a-ad78-f7e432f694db"
      },
      "outputs": [
        {
          "output_type": "stream",
          "name": "stdout",
          "text": [
            "Looking in indexes: https://pypi.org/simple, https://us-python.pkg.dev/colab-wheels/public/simple/\n",
            "Requirement already satisfied: spacy in /usr/local/lib/python3.10/dist-packages (3.5.2)\n",
            "Requirement already satisfied: spacy-legacy<3.1.0,>=3.0.11 in /usr/local/lib/python3.10/dist-packages (from spacy) (3.0.12)\n",
            "Requirement already satisfied: spacy-loggers<2.0.0,>=1.0.0 in /usr/local/lib/python3.10/dist-packages (from spacy) (1.0.4)\n",
            "Requirement already satisfied: murmurhash<1.1.0,>=0.28.0 in /usr/local/lib/python3.10/dist-packages (from spacy) (1.0.9)\n",
            "Requirement already satisfied: cymem<2.1.0,>=2.0.2 in /usr/local/lib/python3.10/dist-packages (from spacy) (2.0.7)\n",
            "Requirement already satisfied: preshed<3.1.0,>=3.0.2 in /usr/local/lib/python3.10/dist-packages (from spacy) (3.0.8)\n",
            "Requirement already satisfied: thinc<8.2.0,>=8.1.8 in /usr/local/lib/python3.10/dist-packages (from spacy) (8.1.9)\n",
            "Requirement already satisfied: wasabi<1.2.0,>=0.9.1 in /usr/local/lib/python3.10/dist-packages (from spacy) (1.1.1)\n",
            "Requirement already satisfied: srsly<3.0.0,>=2.4.3 in /usr/local/lib/python3.10/dist-packages (from spacy) (2.4.6)\n",
            "Requirement already satisfied: catalogue<2.1.0,>=2.0.6 in /usr/local/lib/python3.10/dist-packages (from spacy) (2.0.8)\n",
            "Requirement already satisfied: typer<0.8.0,>=0.3.0 in /usr/local/lib/python3.10/dist-packages (from spacy) (0.7.0)\n",
            "Requirement already satisfied: pathy>=0.10.0 in /usr/local/lib/python3.10/dist-packages (from spacy) (0.10.1)\n",
            "Requirement already satisfied: smart-open<7.0.0,>=5.2.1 in /usr/local/lib/python3.10/dist-packages (from spacy) (6.3.0)\n",
            "Requirement already satisfied: tqdm<5.0.0,>=4.38.0 in /usr/local/lib/python3.10/dist-packages (from spacy) (4.65.0)\n",
            "Requirement already satisfied: numpy>=1.15.0 in /usr/local/lib/python3.10/dist-packages (from spacy) (1.22.4)\n",
            "Requirement already satisfied: requests<3.0.0,>=2.13.0 in /usr/local/lib/python3.10/dist-packages (from spacy) (2.27.1)\n",
            "Requirement already satisfied: pydantic!=1.8,!=1.8.1,<1.11.0,>=1.7.4 in /usr/local/lib/python3.10/dist-packages (from spacy) (1.10.7)\n",
            "Requirement already satisfied: jinja2 in /usr/local/lib/python3.10/dist-packages (from spacy) (3.1.2)\n",
            "Requirement already satisfied: setuptools in /usr/local/lib/python3.10/dist-packages (from spacy) (67.7.2)\n",
            "Requirement already satisfied: packaging>=20.0 in /usr/local/lib/python3.10/dist-packages (from spacy) (23.1)\n",
            "Requirement already satisfied: langcodes<4.0.0,>=3.2.0 in /usr/local/lib/python3.10/dist-packages (from spacy) (3.3.0)\n",
            "Requirement already satisfied: typing-extensions>=4.2.0 in /usr/local/lib/python3.10/dist-packages (from pydantic!=1.8,!=1.8.1,<1.11.0,>=1.7.4->spacy) (4.5.0)\n",
            "Requirement already satisfied: urllib3<1.27,>=1.21.1 in /usr/local/lib/python3.10/dist-packages (from requests<3.0.0,>=2.13.0->spacy) (1.26.15)\n",
            "Requirement already satisfied: certifi>=2017.4.17 in /usr/local/lib/python3.10/dist-packages (from requests<3.0.0,>=2.13.0->spacy) (2022.12.7)\n",
            "Requirement already satisfied: charset-normalizer~=2.0.0 in /usr/local/lib/python3.10/dist-packages (from requests<3.0.0,>=2.13.0->spacy) (2.0.12)\n",
            "Requirement already satisfied: idna<4,>=2.5 in /usr/local/lib/python3.10/dist-packages (from requests<3.0.0,>=2.13.0->spacy) (3.4)\n",
            "Requirement already satisfied: blis<0.8.0,>=0.7.8 in /usr/local/lib/python3.10/dist-packages (from thinc<8.2.0,>=8.1.8->spacy) (0.7.9)\n",
            "Requirement already satisfied: confection<1.0.0,>=0.0.1 in /usr/local/lib/python3.10/dist-packages (from thinc<8.2.0,>=8.1.8->spacy) (0.0.4)\n",
            "Requirement already satisfied: click<9.0.0,>=7.1.1 in /usr/local/lib/python3.10/dist-packages (from typer<0.8.0,>=0.3.0->spacy) (8.1.3)\n",
            "Requirement already satisfied: MarkupSafe>=2.0 in /usr/local/lib/python3.10/dist-packages (from jinja2->spacy) (2.1.2)\n",
            "['fasttext-wiki-news-subwords-300', 'conceptnet-numberbatch-17-06-300', 'word2vec-ruscorpora-300', 'word2vec-google-news-300', 'glove-wiki-gigaword-50', 'glove-wiki-gigaword-100', 'glove-wiki-gigaword-200', 'glove-wiki-gigaword-300', 'glove-twitter-25', 'glove-twitter-50', 'glove-twitter-100', 'glove-twitter-200', '__testing_word2vec-matrix-synopsis']\n"
          ]
        }
      ],
      "source": [
        "!pip install --upgrade gensim -q\n",
        "!pip install matplotlib -q\n",
        "!pip install spacy\n",
        "import gensim\n",
        "from gensim.models import word2vec\n",
        "from gensim.models.word2vec import Word2Vec\n",
        "import numpy as np\n",
        "import matplotlib.pyplot as plt\n",
        "import pandas as pd\n",
        "import spacy\n",
        "import string\n",
        "import gensim.downloader as api\n",
        "print(list(gensim.downloader.info()['models'].keys()))\n"
      ]
    },
    {
      "cell_type": "code",
      "source": [
        "wv = api.load('glove-wiki-gigaword-50')"
      ],
      "metadata": {
        "id": "BQtxfua8Dfu5"
      },
      "execution_count": 7,
      "outputs": []
    },
    {
      "cell_type": "code",
      "source": [
        "import csv\n",
        "gender_specific = ['he','him','man','his','boy','uncle','father','grandfather',\n",
        "                   'she','her','woman','girl','aunt','mother','grandmother']\n",
        "matrix = []\n",
        "for word in gender_specific:\n",
        "    lis = wv[word]\n",
        "    matrix.append(lis)"
      ],
      "metadata": {
        "id": "pirHZGviDvoS"
      },
      "execution_count": 8,
      "outputs": []
    },
    {
      "cell_type": "code",
      "source": [
        "import pandas as pd\n",
        "from sklearn.preprocessing import normalize\n",
        "def gender_subspace(gender_specific,matrix):\n",
        "    matrix = np.array(matrix)\n",
        "    gender_subspace = np.mean(matrix, axis=0)\n",
        "    return gender_specific,gender_subspace"
      ],
      "metadata": {
        "id": "2QNmQaHzESqm"
      },
      "execution_count": 9,
      "outputs": []
    },
    {
      "cell_type": "code",
      "source": [
        "def hard_debias(dict, words, space):\n",
        "    lis = np.array(dict.index_to_key)\n",
        "    vect = np.array((dict.vectors))\n",
        "    vect_norm = normalize(vect)\n",
        "    gender_subspace_norm = normalize(space.reshape(1,-1))\n",
        "    \n",
        "    gender_project = np.dot(vect_norm, gender_subspace_norm.T)*gender_subspace_norm\n",
        "    bias_subspace = np.sum(gender_project, axis=0)\n",
        "    \n",
        "    bias_norm = normalize(bias_subspace.reshape(1,-1))\n",
        "    ortho_complement = np.eye(bias_norm.shape[1]) - bias_norm.T*bias_norm\n",
        "    gender_subspace_debias = np.dot(gender_subspace_norm, ortho_complement).reshape((50,))\n",
        "    print(np.shape(gender_subspace_debias))\n",
        "    # debiased_dict[word] = vect - np.dot(vect, gender_subspace_debias)*gender_subspace_debias.reshape(-1,50)\n",
        "    print(\"HUIE\")\n",
        "    print(\"HUIE\")\n",
        "    debiased_dict = {}\n",
        "    print(\"HUIE\")\n",
        "    for i,word in enumerate(lis):\n",
        "        debiased_dict[word] = (vect[i] - (np.dot(vect[i], gender_subspace_debias))*gender_subspace_debias).tolist()\n",
        "    return debiased_dict"
      ],
      "metadata": {
        "id": "m4AqwkzwEUm4"
      },
      "execution_count": 10,
      "outputs": []
    },
    {
      "cell_type": "code",
      "source": [
        "words, space = gender_subspace(gender_specific,matrix)\n",
        "new_dict = hard_debias(wv, words, space)"
      ],
      "metadata": {
        "colab": {
          "base_uri": "https://localhost:8080/"
        },
        "id": "FkFiRT1lEW37",
        "outputId": "68d48138-5905-411b-b184-114249945101"
      },
      "execution_count": 11,
      "outputs": [
        {
          "output_type": "stream",
          "name": "stdout",
          "text": [
            "(50,)\n",
            "HUIE\n",
            "HUIE\n",
            "HUIE\n"
          ]
        }
      ]
    },
    {
      "cell_type": "code",
      "source": [
        "print(wv['apple'])"
      ],
      "metadata": {
        "colab": {
          "base_uri": "https://localhost:8080/"
        },
        "id": "3JONcNNuH70m",
        "outputId": "5e9a5b2b-e7be-416f-8ec4-a74fd75a7152"
      },
      "execution_count": 50,
      "outputs": [
        {
          "output_type": "stream",
          "name": "stdout",
          "text": [
            "[ 0.52042  -0.8314    0.49961   1.2893    0.1151    0.057521 -1.3753\n",
            " -0.97313   0.18346   0.47672  -0.15112   0.35532   0.25912  -0.77857\n",
            "  0.52181   0.47695  -1.4251    0.858     0.59821  -1.0903    0.33574\n",
            " -0.60891   0.41742   0.21569  -0.07417  -0.5822   -0.4502    0.17253\n",
            "  0.16448  -0.38413   2.3283   -0.66682  -0.58181   0.74389   0.095015\n",
            " -0.47865  -0.84591   0.38704   0.23693  -1.5523    0.64802  -0.16521\n",
            " -1.4719   -0.16224   0.79857   0.97391   0.40027  -0.21912  -0.30938\n",
            "  0.26581 ]\n"
          ]
        }
      ]
    },
    {
      "cell_type": "code",
      "source": [
        "print(new_dict['apple'])"
      ],
      "metadata": {
        "colab": {
          "base_uri": "https://localhost:8080/"
        },
        "id": "1DvAcUo3Eut9",
        "outputId": "f060a0f7-ca9d-4fe6-e419-c71e7e9852ac"
      },
      "execution_count": 49,
      "outputs": [
        {
          "output_type": "stream",
          "name": "stdout",
          "text": [
            "[ 0.52042001 -0.83139998  0.49961001  1.28929996  0.1151      0.057521\n",
            " -1.37530005 -0.97312999  0.18346     0.47672001 -0.15112001  0.35532001\n",
            "  0.25911999 -0.77857     0.52181     0.47694999 -1.42509997  0.85799998\n",
            "  0.59820998 -1.09029996  0.33574    -0.60891002  0.41742     0.21569\n",
            " -0.07417    -0.58219999 -0.45019999  0.17253     0.16448    -0.38413\n",
            "  2.3283     -0.66681999 -0.58181     0.74388999  0.095015   -0.47865\n",
            " -0.84591001  0.38703999  0.23693    -1.55229998  0.64802003 -0.16520999\n",
            " -1.47189999 -0.16224     0.79856998  0.97390997  0.40026999 -0.21912\n",
            " -0.30937999  0.26581001]\n"
          ]
        }
      ]
    },
    {
      "cell_type": "code",
      "source": [
        "import json\n",
        "json_o = json.dumps(new_dict)\n",
        "jsonFile = open(\"data.json\", \"w\")\n",
        "jsonFile.write(json_o)\n",
        "jsonFile.close()"
      ],
      "metadata": {
        "id": "urSvELlJIFkx"
      },
      "execution_count": 12,
      "outputs": []
    }
  ]
}