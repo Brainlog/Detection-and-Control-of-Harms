{
 "cells": [
  {
   "cell_type": "code",
   "execution_count": 2,
   "metadata": {},
   "outputs": [
    {
     "name": "stdout",
     "output_type": "stream",
     "text": [
      "Requirement already satisfied: spacy in /home/vatsal/.local/lib/python3.8/site-packages (3.5.1)\n",
      "Requirement already satisfied: cymem<2.1.0,>=2.0.2 in /home/vatsal/.local/lib/python3.8/site-packages (from spacy) (2.0.7)\n",
      "Requirement already satisfied: catalogue<2.1.0,>=2.0.6 in /home/vatsal/.local/lib/python3.8/site-packages (from spacy) (2.0.8)\n",
      "Requirement already satisfied: numpy>=1.15.0 in /home/vatsal/.local/lib/python3.8/site-packages (from spacy) (1.23.4)\n",
      "Requirement already satisfied: pydantic!=1.8,!=1.8.1,<1.11.0,>=1.7.4 in /home/vatsal/.local/lib/python3.8/site-packages (from spacy) (1.10.7)\n",
      "Requirement already satisfied: typer<0.8.0,>=0.3.0 in /home/vatsal/.local/lib/python3.8/site-packages (from spacy) (0.7.0)\n",
      "Requirement already satisfied: requests<3.0.0,>=2.13.0 in /usr/lib/python3/dist-packages (from spacy) (2.22.0)\n",
      "Requirement already satisfied: srsly<3.0.0,>=2.4.3 in /home/vatsal/.local/lib/python3.8/site-packages (from spacy) (2.4.6)\n",
      "Requirement already satisfied: murmurhash<1.1.0,>=0.28.0 in /home/vatsal/.local/lib/python3.8/site-packages (from spacy) (1.0.9)\n",
      "Requirement already satisfied: jinja2 in /home/vatsal/.local/lib/python3.8/site-packages (from spacy) (3.1.2)\n",
      "Requirement already satisfied: tqdm<5.0.0,>=4.38.0 in /usr/local/lib/python3.8/dist-packages (from spacy) (4.65.0)\n",
      "Requirement already satisfied: smart-open<7.0.0,>=5.2.1 in /usr/local/lib/python3.8/dist-packages (from spacy) (6.3.0)\n",
      "Requirement already satisfied: setuptools in /usr/lib/python3/dist-packages (from spacy) (45.2.0)\n",
      "Requirement already satisfied: spacy-loggers<2.0.0,>=1.0.0 in /home/vatsal/.local/lib/python3.8/site-packages (from spacy) (1.0.4)\n",
      "Requirement already satisfied: pathy>=0.10.0 in /home/vatsal/.local/lib/python3.8/site-packages (from spacy) (0.10.1)\n",
      "Requirement already satisfied: packaging>=20.0 in /usr/local/lib/python3.8/dist-packages (from spacy) (22.0)\n",
      "Requirement already satisfied: thinc<8.2.0,>=8.1.8 in /home/vatsal/.local/lib/python3.8/site-packages (from spacy) (8.1.9)\n",
      "Requirement already satisfied: preshed<3.1.0,>=3.0.2 in /home/vatsal/.local/lib/python3.8/site-packages (from spacy) (3.0.8)\n",
      "Requirement already satisfied: wasabi<1.2.0,>=0.9.1 in /home/vatsal/.local/lib/python3.8/site-packages (from spacy) (1.1.1)\n",
      "Requirement already satisfied: spacy-legacy<3.1.0,>=3.0.11 in /home/vatsal/.local/lib/python3.8/site-packages (from spacy) (3.0.12)\n",
      "Requirement already satisfied: langcodes<4.0.0,>=3.2.0 in /home/vatsal/.local/lib/python3.8/site-packages (from spacy) (3.3.0)\n",
      "Requirement already satisfied: typing-extensions>=4.2.0 in /usr/local/lib/python3.8/dist-packages (from pydantic!=1.8,!=1.8.1,<1.11.0,>=1.7.4->spacy) (4.5.0)\n",
      "Requirement already satisfied: click<9.0.0,>=7.1.1 in /home/vatsal/.local/lib/python3.8/site-packages (from typer<0.8.0,>=0.3.0->spacy) (8.1.3)\n",
      "Requirement already satisfied: MarkupSafe>=2.0 in /usr/local/lib/python3.8/dist-packages (from jinja2->spacy) (2.1.2)\n",
      "Requirement already satisfied: blis<0.8.0,>=0.7.8 in /home/vatsal/.local/lib/python3.8/site-packages (from thinc<8.2.0,>=8.1.8->spacy) (0.7.9)\n",
      "Requirement already satisfied: confection<1.0.0,>=0.0.1 in /home/vatsal/.local/lib/python3.8/site-packages (from thinc<8.2.0,>=8.1.8->spacy) (0.0.4)\n"
     ]
    },
    {
     "name": "stderr",
     "output_type": "stream",
     "text": [
      "2023-05-10 20:38:42.504929: I tensorflow/tsl/cuda/cudart_stub.cc:28] Could not find cuda drivers on your machine, GPU will not be used.\n",
      "2023-05-10 20:38:42.766229: I tensorflow/tsl/cuda/cudart_stub.cc:28] Could not find cuda drivers on your machine, GPU will not be used.\n",
      "2023-05-10 20:38:42.767627: I tensorflow/core/platform/cpu_feature_guard.cc:182] This TensorFlow binary is optimized to use available CPU instructions in performance-critical operations.\n",
      "To enable the following instructions: AVX2 FMA, in other operations, rebuild TensorFlow with the appropriate compiler flags.\n",
      "2023-05-10 20:38:44.028718: W tensorflow/compiler/tf2tensorrt/utils/py_utils.cc:38] TF-TRT Warning: Could not find TensorRT\n",
      "2023-05-10 20:38:45.662438: E tensorflow/compiler/xla/stream_executor/cuda/cuda_driver.cc:266] failed call to cuInit: CUDA_ERROR_NO_DEVICE: no CUDA-capable device is detected\n"
     ]
    },
    {
     "name": "stdout",
     "output_type": "stream",
     "text": [
      "['fasttext-wiki-news-subwords-300', 'conceptnet-numberbatch-17-06-300', 'word2vec-ruscorpora-300', 'word2vec-google-news-300', 'glove-wiki-gigaword-50', 'glove-wiki-gigaword-100', 'glove-wiki-gigaword-200', 'glove-wiki-gigaword-300', 'glove-twitter-25', 'glove-twitter-50', 'glove-twitter-100', 'glove-twitter-200', '__testing_word2vec-matrix-synopsis']\n"
     ]
    }
   ],
   "source": [
    "!pip install --upgrade gensim -q\n",
    "!pip install matplotlib -q\n",
    "!pip install spacy\n",
    "import gensim\n",
    "from gensim.models import word2vec\n",
    "from gensim.models.word2vec import Word2Vec\n",
    "import numpy as np\n",
    "import matplotlib.pyplot as plt\n",
    "import pandas as pd\n",
    "import spacy\n",
    "import string\n",
    "import gensim.downloader as api\n",
    "print(list(gensim.downloader.info()['models'].keys()))"
   ]
  },
  {
   "cell_type": "code",
   "execution_count": 3,
   "metadata": {},
   "outputs": [],
   "source": [
    "wv = api.load('glove-wiki-gigaword-50')"
   ]
  },
  {
   "cell_type": "code",
   "execution_count": 4,
   "metadata": {},
   "outputs": [
    {
     "data": {
      "text/plain": [
       "array([ 0.31474 ,  0.41662 ,  0.1348  ,  0.15854 ,  0.88812 ,  0.43317 ,\n",
       "       -0.55916 ,  0.030476, -0.14623 , -0.14273 , -0.17949 , -0.17343 ,\n",
       "       -0.49264 ,  0.26775 ,  0.48799 , -0.29537 ,  0.18485 ,  0.14937 ,\n",
       "       -0.75009 , -0.35651 , -0.23699 ,  0.1849  ,  0.17237 ,  0.23611 ,\n",
       "        0.14077 , -1.9031  , -0.65353 , -0.022539,  0.10383 , -0.43705 ,\n",
       "        3.781   , -0.044077, -0.046643,  0.027274,  0.51883 ,  0.13353 ,\n",
       "        0.23231 ,  0.25599 ,  0.060888, -0.065618, -0.15556 ,  0.30818 ,\n",
       "       -0.093586,  0.33296 , -0.14613 ,  0.016332, -0.24251 , -0.20526 ,\n",
       "        0.07009 , -0.11568 ], dtype=float32)"
      ]
     },
     "execution_count": 4,
     "metadata": {},
     "output_type": "execute_result"
    }
   ],
   "source": [
    "wv['one']"
   ]
  },
  {
   "cell_type": "code",
   "execution_count": 5,
   "metadata": {},
   "outputs": [],
   "source": [
    "data = pd.read_csv('imdb.csv')\n",
    "\n"
   ]
  },
  {
   "cell_type": "code",
   "execution_count": 6,
   "metadata": {},
   "outputs": [],
   "source": [
    "import string"
   ]
  },
  {
   "cell_type": "code",
   "execution_count": 143,
   "metadata": {},
   "outputs": [
    {
     "name": "stdout",
     "output_type": "stream",
     "text": [
      "(50000,)\n",
      "(50000,)\n"
     ]
    },
    {
     "name": "stderr",
     "output_type": "stream",
     "text": [
      "/tmp/ipykernel_57839/3149578955.py:14: VisibleDeprecationWarning: Creating an ndarray from ragged nested sequences (which is a list-or-tuple of lists-or-tuples-or ndarrays with different lengths or shapes) is deprecated. If you meant to do this, you must specify 'dtype=object' when creating the ndarray.\n",
      "  xdata = np.array(x)\n"
     ]
    }
   ],
   "source": [
    "data_x = np.array(data['review'])\n",
    "data_y = np.array(data['sentiment'])\n",
    "x = []\n",
    "print(data_x.shape)\n",
    "print(data_y.shape)\n",
    "for i in range(len(data_x)):\n",
    "    translating = str.maketrans('', '', string.punctuation)\n",
    "    z = data_x[i].translate(translating)\n",
    "    l1 = np.array(z.split())\n",
    "    l2 = l1[np.where(l1!='<br /><br />')]\n",
    "    x.append(l2)\n",
    "    # print(l2.shape)\n",
    "    \n",
    "xdata = np.array(x)\n"
   ]
  },
  {
   "cell_type": "code",
   "execution_count": 144,
   "metadata": {},
   "outputs": [
    {
     "name": "stdout",
     "output_type": "stream",
     "text": [
      "(50000, 50)\n"
     ]
    }
   ],
   "source": [
    "n_dim = 50\n",
    "finalembed = np.zeros((xdata.shape[0],n_dim))\n",
    "for i in range(xdata.shape[0]):\n",
    "    embedvect = np.zeros((xdata[i].shape[0],n_dim))\n",
    "    for j in range(xdata[i].shape[0]):\n",
    "        try:\n",
    "            word = xdata[i][j].lower()\n",
    "            embedvect[j] = wv[word]\n",
    "        except KeyError as ke:\n",
    "            #eror catched\n",
    "            pass\n",
    "    finalembed[i] = np.mean(embedvect,axis=0)\n",
    "print(finalembed.shape)\n",
    "    \n",
    "\n",
    "\n",
    "        "
   ]
  },
  {
   "cell_type": "code",
   "execution_count": null,
   "metadata": {},
   "outputs": [],
   "source": []
  },
  {
   "cell_type": "code",
   "execution_count": 145,
   "metadata": {},
   "outputs": [],
   "source": [
    "ydata = np.zeros(data_y.shape[0])\n",
    "res = np.where(data_y=='positive')\n",
    "ydata[res] = 1"
   ]
  },
  {
   "cell_type": "code",
   "execution_count": 79,
   "metadata": {},
   "outputs": [],
   "source": [
    "from sklearn.model_selection import train_test_split\n",
    "from sklearn.neural_network import MLPClassifier\n",
    "from sklearn.preprocessing import StandardScaler\n"
   ]
  },
  {
   "cell_type": "code",
   "execution_count": 147,
   "metadata": {},
   "outputs": [],
   "source": [
    "# train_data, test_data, train_labels, test_labels = finalembed[:40000], finalembed[40000:], ydata[:40000], ydata[40000:]\n",
    "train_data = finalembed[:40000]\n",
    "train_labels = ydata[:40000]\n",
    "scaler = StandardScaler()\n",
    "scaler.fit(train_data)\n",
    "train_data = scaler.transform(train_data)"
   ]
  },
  {
   "cell_type": "code",
   "execution_count": 82,
   "metadata": {},
   "outputs": [],
   "source": [
    "model = MLPClassifier(hidden_layer_sizes=(30,20,5), max_iter=200, batch_size=50 , alpha=1e-5,learning_rate_init=0.001,learning_rate='adaptive', solver='adam', verbose=True)"
   ]
  },
  {
   "cell_type": "code",
   "execution_count": null,
   "metadata": {},
   "outputs": [],
   "source": []
  },
  {
   "cell_type": "code",
   "execution_count": null,
   "metadata": {},
   "outputs": [],
   "source": []
  },
  {
   "cell_type": "code",
   "execution_count": 148,
   "metadata": {},
   "outputs": [
    {
     "name": "stdout",
     "output_type": "stream",
     "text": [
      "Iteration 1, loss = 0.51921216\n",
      "Iteration 2, loss = 0.48394119\n",
      "Iteration 3, loss = 0.47594020\n",
      "Iteration 4, loss = 0.47039113\n",
      "Iteration 5, loss = 0.46650761\n",
      "Iteration 6, loss = 0.46254527\n",
      "Iteration 7, loss = 0.45985665\n",
      "Iteration 8, loss = 0.45708824\n",
      "Iteration 9, loss = 0.45521222\n",
      "Iteration 10, loss = 0.45373452\n",
      "Iteration 11, loss = 0.45137811\n",
      "Iteration 12, loss = 0.44959419\n",
      "Iteration 13, loss = 0.44872088\n",
      "Iteration 14, loss = 0.44699563\n",
      "Iteration 15, loss = 0.44586330\n",
      "Iteration 16, loss = 0.44418600\n",
      "Iteration 17, loss = 0.44274853\n",
      "Iteration 18, loss = 0.44220628\n",
      "Iteration 19, loss = 0.44054526\n",
      "Iteration 20, loss = 0.43922773\n",
      "Iteration 21, loss = 0.43883617\n",
      "Iteration 22, loss = 0.43733620\n",
      "Iteration 23, loss = 0.43621225\n",
      "Iteration 24, loss = 0.43620881\n",
      "Iteration 25, loss = 0.43459643\n",
      "Iteration 26, loss = 0.43415301\n",
      "Iteration 27, loss = 0.43332835\n",
      "Iteration 28, loss = 0.43245472\n",
      "Iteration 29, loss = 0.43197961\n",
      "Iteration 30, loss = 0.43105802\n",
      "Iteration 31, loss = 0.43052178\n",
      "Iteration 32, loss = 0.43015342\n",
      "Iteration 33, loss = 0.42963345\n",
      "Iteration 34, loss = 0.42879810\n",
      "Iteration 35, loss = 0.42772960\n",
      "Iteration 36, loss = 0.42736204\n",
      "Iteration 37, loss = 0.42788980\n",
      "Iteration 38, loss = 0.42602702\n",
      "Iteration 39, loss = 0.42598911\n",
      "Iteration 40, loss = 0.42560995\n",
      "Iteration 41, loss = 0.42485357\n",
      "Iteration 42, loss = 0.42496458\n",
      "Iteration 43, loss = 0.42483208\n",
      "Iteration 44, loss = 0.42394831\n",
      "Iteration 45, loss = 0.42349713\n",
      "Iteration 46, loss = 0.42309518\n",
      "Iteration 47, loss = 0.42269639\n",
      "Iteration 48, loss = 0.42240691\n",
      "Iteration 49, loss = 0.42201271\n",
      "Iteration 50, loss = 0.42221341\n",
      "Iteration 51, loss = 0.42228720\n",
      "Iteration 52, loss = 0.42109996\n",
      "Iteration 53, loss = 0.42072340\n",
      "Iteration 54, loss = 0.42062562\n",
      "Iteration 55, loss = 0.42078940\n",
      "Iteration 56, loss = 0.42005478\n",
      "Iteration 57, loss = 0.41975003\n",
      "Iteration 58, loss = 0.41937055\n",
      "Iteration 59, loss = 0.41947510\n",
      "Iteration 60, loss = 0.41843427\n",
      "Iteration 61, loss = 0.41846537\n",
      "Iteration 62, loss = 0.41847197\n",
      "Iteration 63, loss = 0.41811547\n",
      "Iteration 64, loss = 0.41764358\n",
      "Iteration 65, loss = 0.41717450\n",
      "Iteration 66, loss = 0.41705827\n",
      "Iteration 67, loss = 0.41716204\n",
      "Iteration 68, loss = 0.41648651\n",
      "Iteration 69, loss = 0.41614045\n",
      "Iteration 70, loss = 0.41622334\n",
      "Iteration 71, loss = 0.41590176\n",
      "Iteration 72, loss = 0.41529201\n",
      "Iteration 73, loss = 0.41514529\n",
      "Iteration 74, loss = 0.41507311\n",
      "Iteration 75, loss = 0.41488514\n",
      "Iteration 76, loss = 0.41446345\n",
      "Iteration 77, loss = 0.41491363\n",
      "Iteration 78, loss = 0.41398084\n",
      "Iteration 79, loss = 0.41421812\n",
      "Iteration 80, loss = 0.41407848\n",
      "Iteration 81, loss = 0.41382009\n",
      "Iteration 82, loss = 0.41324710\n",
      "Iteration 83, loss = 0.41360274\n",
      "Iteration 84, loss = 0.41305737\n",
      "Iteration 85, loss = 0.41340771\n",
      "Iteration 86, loss = 0.41255751\n",
      "Iteration 87, loss = 0.41226381\n",
      "Iteration 88, loss = 0.41232729\n",
      "Iteration 89, loss = 0.41182053\n",
      "Iteration 90, loss = 0.41194910\n",
      "Iteration 91, loss = 0.41146238\n",
      "Iteration 92, loss = 0.41164956\n",
      "Iteration 93, loss = 0.41092010\n",
      "Iteration 94, loss = 0.41129949\n",
      "Iteration 95, loss = 0.41061223\n",
      "Iteration 96, loss = 0.41090866\n",
      "Iteration 97, loss = 0.41073987\n",
      "Iteration 98, loss = 0.41018664\n",
      "Iteration 99, loss = 0.41138902\n",
      "Iteration 100, loss = 0.41036563\n",
      "Iteration 101, loss = 0.41016006\n",
      "Iteration 102, loss = 0.40992190\n",
      "Iteration 103, loss = 0.41040178\n",
      "Iteration 104, loss = 0.41007306\n",
      "Iteration 105, loss = 0.40934027\n",
      "Iteration 106, loss = 0.40964265\n",
      "Iteration 107, loss = 0.40936628\n",
      "Iteration 108, loss = 0.40950500\n",
      "Iteration 109, loss = 0.40824830\n",
      "Iteration 110, loss = 0.40935925\n",
      "Iteration 111, loss = 0.40871801\n",
      "Iteration 112, loss = 0.40829697\n",
      "Iteration 113, loss = 0.40908629\n",
      "Iteration 114, loss = 0.40816580\n",
      "Iteration 115, loss = 0.40823625\n",
      "Iteration 116, loss = 0.40804477\n",
      "Iteration 117, loss = 0.40854974\n",
      "Iteration 118, loss = 0.40798034\n",
      "Iteration 119, loss = 0.40778328\n",
      "Iteration 120, loss = 0.40732403\n",
      "Iteration 121, loss = 0.40799572\n",
      "Iteration 122, loss = 0.40701387\n",
      "Iteration 123, loss = 0.40723223\n",
      "Iteration 124, loss = 0.40712608\n",
      "Iteration 125, loss = 0.40693197\n",
      "Iteration 126, loss = 0.40650415\n",
      "Iteration 127, loss = 0.40694817\n",
      "Iteration 128, loss = 0.40613652\n",
      "Iteration 129, loss = 0.40671243\n",
      "Iteration 130, loss = 0.40674327\n",
      "Iteration 131, loss = 0.40576861\n",
      "Iteration 132, loss = 0.40677553\n",
      "Iteration 133, loss = 0.40630861\n",
      "Iteration 134, loss = 0.40624726\n",
      "Iteration 135, loss = 0.40557968\n",
      "Iteration 136, loss = 0.40544510\n",
      "Iteration 137, loss = 0.40572795\n",
      "Iteration 138, loss = 0.40512303\n",
      "Iteration 139, loss = 0.40522331\n",
      "Iteration 140, loss = 0.40572297\n",
      "Iteration 141, loss = 0.40544845\n",
      "Iteration 142, loss = 0.40511886\n",
      "Iteration 143, loss = 0.40565727\n",
      "Iteration 144, loss = 0.40469083\n",
      "Iteration 145, loss = 0.40520652\n",
      "Iteration 146, loss = 0.40518880\n",
      "Iteration 147, loss = 0.40503393\n",
      "Iteration 148, loss = 0.40415663\n",
      "Iteration 149, loss = 0.40449985\n",
      "Iteration 150, loss = 0.40475608\n",
      "Iteration 151, loss = 0.40435043\n",
      "Iteration 152, loss = 0.40436485\n",
      "Iteration 153, loss = 0.40515465\n",
      "Iteration 154, loss = 0.40450590\n",
      "Iteration 155, loss = 0.40423414\n",
      "Iteration 156, loss = 0.40468761\n",
      "Iteration 157, loss = 0.40409489\n",
      "Iteration 158, loss = 0.40413068\n",
      "Iteration 159, loss = 0.40424670\n",
      "Training loss did not improve more than tol=0.000100 for 10 consecutive epochs. Stopping.\n"
     ]
    },
    {
     "data": {
      "text/html": [
       "<style>#sk-container-id-19 {color: black;background-color: white;}#sk-container-id-19 pre{padding: 0;}#sk-container-id-19 div.sk-toggleable {background-color: white;}#sk-container-id-19 label.sk-toggleable__label {cursor: pointer;display: block;width: 100%;margin-bottom: 0;padding: 0.3em;box-sizing: border-box;text-align: center;}#sk-container-id-19 label.sk-toggleable__label-arrow:before {content: \"▸\";float: left;margin-right: 0.25em;color: #696969;}#sk-container-id-19 label.sk-toggleable__label-arrow:hover:before {color: black;}#sk-container-id-19 div.sk-estimator:hover label.sk-toggleable__label-arrow:before {color: black;}#sk-container-id-19 div.sk-toggleable__content {max-height: 0;max-width: 0;overflow: hidden;text-align: left;background-color: #f0f8ff;}#sk-container-id-19 div.sk-toggleable__content pre {margin: 0.2em;color: black;border-radius: 0.25em;background-color: #f0f8ff;}#sk-container-id-19 input.sk-toggleable__control:checked~div.sk-toggleable__content {max-height: 200px;max-width: 100%;overflow: auto;}#sk-container-id-19 input.sk-toggleable__control:checked~label.sk-toggleable__label-arrow:before {content: \"▾\";}#sk-container-id-19 div.sk-estimator input.sk-toggleable__control:checked~label.sk-toggleable__label {background-color: #d4ebff;}#sk-container-id-19 div.sk-label input.sk-toggleable__control:checked~label.sk-toggleable__label {background-color: #d4ebff;}#sk-container-id-19 input.sk-hidden--visually {border: 0;clip: rect(1px 1px 1px 1px);clip: rect(1px, 1px, 1px, 1px);height: 1px;margin: -1px;overflow: hidden;padding: 0;position: absolute;width: 1px;}#sk-container-id-19 div.sk-estimator {font-family: monospace;background-color: #f0f8ff;border: 1px dotted black;border-radius: 0.25em;box-sizing: border-box;margin-bottom: 0.5em;}#sk-container-id-19 div.sk-estimator:hover {background-color: #d4ebff;}#sk-container-id-19 div.sk-parallel-item::after {content: \"\";width: 100%;border-bottom: 1px solid gray;flex-grow: 1;}#sk-container-id-19 div.sk-label:hover label.sk-toggleable__label {background-color: #d4ebff;}#sk-container-id-19 div.sk-serial::before {content: \"\";position: absolute;border-left: 1px solid gray;box-sizing: border-box;top: 0;bottom: 0;left: 50%;z-index: 0;}#sk-container-id-19 div.sk-serial {display: flex;flex-direction: column;align-items: center;background-color: white;padding-right: 0.2em;padding-left: 0.2em;position: relative;}#sk-container-id-19 div.sk-item {position: relative;z-index: 1;}#sk-container-id-19 div.sk-parallel {display: flex;align-items: stretch;justify-content: center;background-color: white;position: relative;}#sk-container-id-19 div.sk-item::before, #sk-container-id-19 div.sk-parallel-item::before {content: \"\";position: absolute;border-left: 1px solid gray;box-sizing: border-box;top: 0;bottom: 0;left: 50%;z-index: -1;}#sk-container-id-19 div.sk-parallel-item {display: flex;flex-direction: column;z-index: 1;position: relative;background-color: white;}#sk-container-id-19 div.sk-parallel-item:first-child::after {align-self: flex-end;width: 50%;}#sk-container-id-19 div.sk-parallel-item:last-child::after {align-self: flex-start;width: 50%;}#sk-container-id-19 div.sk-parallel-item:only-child::after {width: 0;}#sk-container-id-19 div.sk-dashed-wrapped {border: 1px dashed gray;margin: 0 0.4em 0.5em 0.4em;box-sizing: border-box;padding-bottom: 0.4em;background-color: white;}#sk-container-id-19 div.sk-label label {font-family: monospace;font-weight: bold;display: inline-block;line-height: 1.2em;}#sk-container-id-19 div.sk-label-container {text-align: center;}#sk-container-id-19 div.sk-container {/* jupyter's `normalize.less` sets `[hidden] { display: none; }` but bootstrap.min.css set `[hidden] { display: none !important; }` so we also need the `!important` here to be able to override the default hidden behavior on the sphinx rendered scikit-learn.org. See: https://github.com/scikit-learn/scikit-learn/issues/21755 */display: inline-block !important;position: relative;}#sk-container-id-19 div.sk-text-repr-fallback {display: none;}</style><div id=\"sk-container-id-19\" class=\"sk-top-container\"><div class=\"sk-text-repr-fallback\"><pre>MLPClassifier(alpha=1e-05, batch_size=50, hidden_layer_sizes=(30, 20, 5),\n",
       "              learning_rate=&#x27;adaptive&#x27;, verbose=True)</pre><b>In a Jupyter environment, please rerun this cell to show the HTML representation or trust the notebook. <br />On GitHub, the HTML representation is unable to render, please try loading this page with nbviewer.org.</b></div><div class=\"sk-container\" hidden><div class=\"sk-item\"><div class=\"sk-estimator sk-toggleable\"><input class=\"sk-toggleable__control sk-hidden--visually\" id=\"sk-estimator-id-19\" type=\"checkbox\" checked><label for=\"sk-estimator-id-19\" class=\"sk-toggleable__label sk-toggleable__label-arrow\">MLPClassifier</label><div class=\"sk-toggleable__content\"><pre>MLPClassifier(alpha=1e-05, batch_size=50, hidden_layer_sizes=(30, 20, 5),\n",
       "              learning_rate=&#x27;adaptive&#x27;, verbose=True)</pre></div></div></div></div></div>"
      ],
      "text/plain": [
       "MLPClassifier(alpha=1e-05, batch_size=50, hidden_layer_sizes=(30, 20, 5),\n",
       "              learning_rate='adaptive', verbose=True)"
      ]
     },
     "execution_count": 148,
     "metadata": {},
     "output_type": "execute_result"
    }
   ],
   "source": [
    "model.fit(train_data, train_labels)"
   ]
  },
  {
   "cell_type": "code",
   "execution_count": 149,
   "metadata": {},
   "outputs": [
    {
     "name": "stdout",
     "output_type": "stream",
     "text": [
      "TRAIN DATA\n",
      "0.81945\n"
     ]
    }
   ],
   "source": [
    "print('TRAIN DATA')\n",
    "pred_y = model.predict(train_data)\n",
    "c = 0\n",
    "t = 0\n",
    "# print(pred_y)\n",
    "# print(test_labels)\n",
    "for i in range(len(pred_y)):\n",
    "    t += 1\n",
    "    if(pred_y[i]==train_labels[i]):\n",
    "        c+=1\n",
    "accq = c/t\n",
    "\n",
    "print(accq)"
   ]
  },
  {
   "cell_type": "code",
   "execution_count": 85,
   "metadata": {},
   "outputs": [
    {
     "name": "stdout",
     "output_type": "stream",
     "text": [
      "VAL DATA\n",
      "0.5735\n"
     ]
    }
   ],
   "source": [
    "print('VAL DATA')\n",
    "pred_y = model.predict(test_data)\n",
    "c = 0\n",
    "t = 0\n",
    "# print(pred_y)\n",
    "# print(test_labels)\n",
    "for i in range(len(pred_y)):\n",
    "    t += 1\n",
    "    if(pred_y[i]==test_labels[i]):\n",
    "        c+=1\n",
    "accq = c/t\n",
    "\n",
    "print(accq)"
   ]
  },
  {
   "cell_type": "code",
   "execution_count": 40,
   "metadata": {},
   "outputs": [],
   "source": [
    "import json"
   ]
  },
  {
   "cell_type": "code",
   "execution_count": 86,
   "metadata": {},
   "outputs": [],
   "source": [
    "debaised_wv = json.load(open('data.json'))\n"
   ]
  },
  {
   "cell_type": "code",
   "execution_count": 87,
   "metadata": {},
   "outputs": [],
   "source": [
    "for el in debaised_wv.keys():\n",
    "    debaised_wv[el] = np.array(debaised_wv[el])\n"
   ]
  },
  {
   "cell_type": "code",
   "execution_count": 150,
   "metadata": {},
   "outputs": [],
   "source": [
    "model_debias = MLPClassifier(hidden_layer_sizes=(30,20,5), max_iter=200, batch_size=50 , alpha=1e-5,learning_rate_init=0.001,learning_rate='adaptive', solver='adam', verbose=True)"
   ]
  },
  {
   "cell_type": "code",
   "execution_count": 151,
   "metadata": {},
   "outputs": [
    {
     "name": "stdout",
     "output_type": "stream",
     "text": [
      "(50000, 50)\n"
     ]
    }
   ],
   "source": [
    "n_dim = 50\n",
    "finalembed_db = np.zeros((xdata.shape[0],n_dim))\n",
    "for i in range(xdata.shape[0]):\n",
    "    embedvect_db = np.zeros((xdata[i].shape[0],n_dim))\n",
    "    for j in range(xdata[i].shape[0]):\n",
    "        try:\n",
    "            word = xdata[i][j].lower()\n",
    "            embedvect_db[j] = debaised_wv[word]\n",
    "        except KeyError as ke:\n",
    "            #eror catched\n",
    "            pass\n",
    "    finalembed_db[i] = np.mean(embedvect_db,axis=0)\n",
    "print(finalembed_db.shape)"
   ]
  },
  {
   "cell_type": "code",
   "execution_count": 152,
   "metadata": {},
   "outputs": [],
   "source": [
    "train_data_db, test_data_db, train_labels, test_labels = finalembed_db[:40000], finalembed_db[40000:], ydata[:40000], ydata[40000:]\n",
    "scaler = StandardScaler()\n",
    "scaler.fit(train_data_db)\n",
    "train_data_db = scaler.transform(train_data_db)"
   ]
  },
  {
   "cell_type": "code",
   "execution_count": 154,
   "metadata": {},
   "outputs": [
    {
     "name": "stdout",
     "output_type": "stream",
     "text": [
      "Iteration 1, loss = 0.53594505\n",
      "Iteration 2, loss = 0.48898505\n",
      "Iteration 3, loss = 0.47997840\n",
      "Iteration 4, loss = 0.47423896\n",
      "Iteration 5, loss = 0.47036754\n",
      "Iteration 6, loss = 0.46693767\n",
      "Iteration 7, loss = 0.46394848\n",
      "Iteration 8, loss = 0.46186112\n",
      "Iteration 9, loss = 0.45948825\n",
      "Iteration 10, loss = 0.45789440\n",
      "Iteration 11, loss = 0.45590634\n",
      "Iteration 12, loss = 0.45428116\n",
      "Iteration 13, loss = 0.45193328\n",
      "Iteration 14, loss = 0.45110388\n",
      "Iteration 15, loss = 0.44938964\n",
      "Iteration 16, loss = 0.44865356\n",
      "Iteration 17, loss = 0.44762729\n",
      "Iteration 18, loss = 0.44619990\n",
      "Iteration 19, loss = 0.44482684\n",
      "Iteration 20, loss = 0.44388540\n",
      "Iteration 21, loss = 0.44217512\n",
      "Iteration 22, loss = 0.44150031\n",
      "Iteration 23, loss = 0.44071223\n",
      "Iteration 24, loss = 0.43986036\n",
      "Iteration 25, loss = 0.43865772\n",
      "Iteration 26, loss = 0.43784146\n",
      "Iteration 27, loss = 0.43735355\n",
      "Iteration 28, loss = 0.43579862\n",
      "Iteration 29, loss = 0.43569561\n",
      "Iteration 30, loss = 0.43469512\n",
      "Iteration 31, loss = 0.43346964\n",
      "Iteration 32, loss = 0.43386242\n",
      "Iteration 33, loss = 0.43234171\n",
      "Iteration 34, loss = 0.43193034\n",
      "Iteration 35, loss = 0.43177522\n",
      "Iteration 36, loss = 0.43121548\n",
      "Iteration 37, loss = 0.43013417\n",
      "Iteration 38, loss = 0.43009089\n",
      "Iteration 39, loss = 0.42945028\n",
      "Iteration 40, loss = 0.42859170\n",
      "Iteration 41, loss = 0.42820338\n",
      "Iteration 42, loss = 0.42811408\n",
      "Iteration 43, loss = 0.42749118\n",
      "Iteration 44, loss = 0.42729133\n",
      "Iteration 45, loss = 0.42613807\n",
      "Iteration 46, loss = 0.42592190\n",
      "Iteration 47, loss = 0.42561170\n",
      "Iteration 48, loss = 0.42621178\n",
      "Iteration 49, loss = 0.42476928\n",
      "Iteration 50, loss = 0.42507644\n",
      "Iteration 51, loss = 0.42424976\n",
      "Iteration 52, loss = 0.42349210\n",
      "Iteration 53, loss = 0.42374236\n",
      "Iteration 54, loss = 0.42373918\n",
      "Iteration 55, loss = 0.42275139\n",
      "Iteration 56, loss = 0.42219156\n",
      "Iteration 57, loss = 0.42219226\n",
      "Iteration 58, loss = 0.42155108\n",
      "Iteration 59, loss = 0.42150465\n",
      "Iteration 60, loss = 0.42065449\n",
      "Iteration 61, loss = 0.42061060\n",
      "Iteration 62, loss = 0.42084291\n",
      "Iteration 63, loss = 0.42000043\n",
      "Iteration 64, loss = 0.42042122\n",
      "Iteration 65, loss = 0.41963793\n",
      "Iteration 66, loss = 0.41948842\n",
      "Iteration 67, loss = 0.41945944\n",
      "Iteration 68, loss = 0.41862545\n",
      "Iteration 69, loss = 0.41828416\n",
      "Iteration 70, loss = 0.41776633\n",
      "Iteration 71, loss = 0.41816935\n",
      "Iteration 72, loss = 0.41781197\n",
      "Iteration 73, loss = 0.41683736\n",
      "Iteration 74, loss = 0.41769294\n",
      "Iteration 75, loss = 0.41658129\n",
      "Iteration 76, loss = 0.41705478\n",
      "Iteration 77, loss = 0.41707738\n",
      "Iteration 78, loss = 0.41642243\n",
      "Iteration 79, loss = 0.41588046\n",
      "Iteration 80, loss = 0.41570861\n",
      "Iteration 81, loss = 0.41592516\n",
      "Iteration 82, loss = 0.41497344\n",
      "Iteration 83, loss = 0.41553881\n",
      "Iteration 84, loss = 0.41506347\n",
      "Iteration 85, loss = 0.41482174\n",
      "Iteration 86, loss = 0.41430993\n",
      "Iteration 87, loss = 0.41470407\n",
      "Iteration 88, loss = 0.41423981\n",
      "Iteration 89, loss = 0.41396297\n",
      "Iteration 90, loss = 0.41369669\n",
      "Iteration 91, loss = 0.41321618\n",
      "Iteration 92, loss = 0.41371542\n",
      "Iteration 93, loss = 0.41300739\n",
      "Iteration 94, loss = 0.41370968\n",
      "Iteration 95, loss = 0.41240165\n",
      "Iteration 96, loss = 0.41275556\n",
      "Iteration 97, loss = 0.41252633\n",
      "Iteration 98, loss = 0.41228718\n",
      "Iteration 99, loss = 0.41216694\n",
      "Iteration 100, loss = 0.41171604\n",
      "Iteration 101, loss = 0.41157414\n",
      "Iteration 102, loss = 0.41132120\n",
      "Iteration 103, loss = 0.41150152\n",
      "Iteration 104, loss = 0.41091197\n",
      "Iteration 105, loss = 0.41079365\n",
      "Iteration 106, loss = 0.41074605\n",
      "Iteration 107, loss = 0.41072635\n",
      "Iteration 108, loss = 0.41088974\n",
      "Iteration 109, loss = 0.41023865\n",
      "Iteration 110, loss = 0.41038257\n",
      "Iteration 111, loss = 0.40987808\n",
      "Iteration 112, loss = 0.41013278\n",
      "Iteration 113, loss = 0.40997395\n",
      "Iteration 114, loss = 0.40995824\n",
      "Iteration 115, loss = 0.40985791\n",
      "Iteration 116, loss = 0.40980176\n",
      "Iteration 117, loss = 0.40884499\n",
      "Iteration 118, loss = 0.40969361\n",
      "Iteration 119, loss = 0.40926274\n",
      "Iteration 120, loss = 0.40876586\n",
      "Iteration 121, loss = 0.40904136\n",
      "Iteration 122, loss = 0.40829469\n",
      "Iteration 123, loss = 0.40907813\n",
      "Iteration 124, loss = 0.40868758\n",
      "Iteration 125, loss = 0.40889060\n",
      "Iteration 126, loss = 0.40834617\n",
      "Iteration 127, loss = 0.40864759\n",
      "Iteration 128, loss = 0.40837585\n",
      "Iteration 129, loss = 0.40806076\n",
      "Iteration 130, loss = 0.40840078\n",
      "Iteration 131, loss = 0.40762838\n",
      "Iteration 132, loss = 0.40784217\n",
      "Iteration 133, loss = 0.40683251\n",
      "Iteration 134, loss = 0.40764472\n",
      "Iteration 135, loss = 0.40731009\n",
      "Iteration 136, loss = 0.40740858\n",
      "Iteration 137, loss = 0.40702519\n",
      "Iteration 138, loss = 0.40688692\n",
      "Iteration 139, loss = 0.40735571\n",
      "Iteration 140, loss = 0.40769202\n",
      "Iteration 141, loss = 0.40752557\n",
      "Iteration 142, loss = 0.40679549\n",
      "Iteration 143, loss = 0.40661773\n",
      "Iteration 144, loss = 0.40657699\n",
      "Iteration 145, loss = 0.40584355\n",
      "Iteration 146, loss = 0.40647853\n",
      "Iteration 147, loss = 0.40563646\n",
      "Iteration 148, loss = 0.40622257\n",
      "Iteration 149, loss = 0.40568635\n",
      "Iteration 150, loss = 0.40661604\n",
      "Iteration 151, loss = 0.40572490\n",
      "Iteration 152, loss = 0.40624079\n",
      "Iteration 153, loss = 0.40502078\n",
      "Iteration 154, loss = 0.40510456\n",
      "Iteration 155, loss = 0.40522430\n",
      "Iteration 156, loss = 0.40570950\n",
      "Iteration 157, loss = 0.40565292\n",
      "Iteration 158, loss = 0.40512712\n",
      "Iteration 159, loss = 0.40452208\n",
      "Iteration 160, loss = 0.40514192\n",
      "Iteration 161, loss = 0.40542291\n",
      "Iteration 162, loss = 0.40476074\n",
      "Iteration 163, loss = 0.40480216\n",
      "Iteration 164, loss = 0.40463184\n",
      "Iteration 165, loss = 0.40432759\n",
      "Iteration 166, loss = 0.40511341\n",
      "Iteration 167, loss = 0.40474316\n",
      "Iteration 168, loss = 0.40403457\n",
      "Iteration 169, loss = 0.40496337\n",
      "Iteration 170, loss = 0.40422278\n",
      "Iteration 171, loss = 0.40413263\n",
      "Iteration 172, loss = 0.40409607\n",
      "Iteration 173, loss = 0.40452615\n",
      "Iteration 174, loss = 0.40415078\n",
      "Iteration 175, loss = 0.40317645\n",
      "Iteration 176, loss = 0.40414781\n",
      "Iteration 177, loss = 0.40416752\n",
      "Iteration 178, loss = 0.40460791\n",
      "Iteration 179, loss = 0.40298674\n",
      "Iteration 180, loss = 0.40327217\n",
      "Iteration 181, loss = 0.40350456\n",
      "Iteration 182, loss = 0.40343985\n",
      "Iteration 183, loss = 0.40449855\n",
      "Iteration 184, loss = 0.40223714\n",
      "Iteration 185, loss = 0.40359054\n",
      "Iteration 186, loss = 0.40336608\n",
      "Iteration 187, loss = 0.40306700\n",
      "Iteration 188, loss = 0.40334026\n",
      "Iteration 189, loss = 0.40335619\n",
      "Iteration 190, loss = 0.40322014\n",
      "Iteration 191, loss = 0.40323826\n",
      "Iteration 192, loss = 0.40283553\n",
      "Iteration 193, loss = 0.40309717\n",
      "Iteration 194, loss = 0.40207747\n",
      "Iteration 195, loss = 0.40339082\n",
      "Iteration 196, loss = 0.40189068\n",
      "Iteration 197, loss = 0.40202989\n",
      "Iteration 198, loss = 0.40251906\n",
      "Iteration 199, loss = 0.40198942\n",
      "Iteration 200, loss = 0.40222943\n"
     ]
    },
    {
     "name": "stderr",
     "output_type": "stream",
     "text": [
      "/usr/local/lib/python3.8/dist-packages/sklearn/neural_network/_multilayer_perceptron.py:679: ConvergenceWarning: Stochastic Optimizer: Maximum iterations (200) reached and the optimization hasn't converged yet.\n",
      "  warnings.warn(\n"
     ]
    },
    {
     "data": {
      "text/html": [
       "<style>#sk-container-id-20 {color: black;background-color: white;}#sk-container-id-20 pre{padding: 0;}#sk-container-id-20 div.sk-toggleable {background-color: white;}#sk-container-id-20 label.sk-toggleable__label {cursor: pointer;display: block;width: 100%;margin-bottom: 0;padding: 0.3em;box-sizing: border-box;text-align: center;}#sk-container-id-20 label.sk-toggleable__label-arrow:before {content: \"▸\";float: left;margin-right: 0.25em;color: #696969;}#sk-container-id-20 label.sk-toggleable__label-arrow:hover:before {color: black;}#sk-container-id-20 div.sk-estimator:hover label.sk-toggleable__label-arrow:before {color: black;}#sk-container-id-20 div.sk-toggleable__content {max-height: 0;max-width: 0;overflow: hidden;text-align: left;background-color: #f0f8ff;}#sk-container-id-20 div.sk-toggleable__content pre {margin: 0.2em;color: black;border-radius: 0.25em;background-color: #f0f8ff;}#sk-container-id-20 input.sk-toggleable__control:checked~div.sk-toggleable__content {max-height: 200px;max-width: 100%;overflow: auto;}#sk-container-id-20 input.sk-toggleable__control:checked~label.sk-toggleable__label-arrow:before {content: \"▾\";}#sk-container-id-20 div.sk-estimator input.sk-toggleable__control:checked~label.sk-toggleable__label {background-color: #d4ebff;}#sk-container-id-20 div.sk-label input.sk-toggleable__control:checked~label.sk-toggleable__label {background-color: #d4ebff;}#sk-container-id-20 input.sk-hidden--visually {border: 0;clip: rect(1px 1px 1px 1px);clip: rect(1px, 1px, 1px, 1px);height: 1px;margin: -1px;overflow: hidden;padding: 0;position: absolute;width: 1px;}#sk-container-id-20 div.sk-estimator {font-family: monospace;background-color: #f0f8ff;border: 1px dotted black;border-radius: 0.25em;box-sizing: border-box;margin-bottom: 0.5em;}#sk-container-id-20 div.sk-estimator:hover {background-color: #d4ebff;}#sk-container-id-20 div.sk-parallel-item::after {content: \"\";width: 100%;border-bottom: 1px solid gray;flex-grow: 1;}#sk-container-id-20 div.sk-label:hover label.sk-toggleable__label {background-color: #d4ebff;}#sk-container-id-20 div.sk-serial::before {content: \"\";position: absolute;border-left: 1px solid gray;box-sizing: border-box;top: 0;bottom: 0;left: 50%;z-index: 0;}#sk-container-id-20 div.sk-serial {display: flex;flex-direction: column;align-items: center;background-color: white;padding-right: 0.2em;padding-left: 0.2em;position: relative;}#sk-container-id-20 div.sk-item {position: relative;z-index: 1;}#sk-container-id-20 div.sk-parallel {display: flex;align-items: stretch;justify-content: center;background-color: white;position: relative;}#sk-container-id-20 div.sk-item::before, #sk-container-id-20 div.sk-parallel-item::before {content: \"\";position: absolute;border-left: 1px solid gray;box-sizing: border-box;top: 0;bottom: 0;left: 50%;z-index: -1;}#sk-container-id-20 div.sk-parallel-item {display: flex;flex-direction: column;z-index: 1;position: relative;background-color: white;}#sk-container-id-20 div.sk-parallel-item:first-child::after {align-self: flex-end;width: 50%;}#sk-container-id-20 div.sk-parallel-item:last-child::after {align-self: flex-start;width: 50%;}#sk-container-id-20 div.sk-parallel-item:only-child::after {width: 0;}#sk-container-id-20 div.sk-dashed-wrapped {border: 1px dashed gray;margin: 0 0.4em 0.5em 0.4em;box-sizing: border-box;padding-bottom: 0.4em;background-color: white;}#sk-container-id-20 div.sk-label label {font-family: monospace;font-weight: bold;display: inline-block;line-height: 1.2em;}#sk-container-id-20 div.sk-label-container {text-align: center;}#sk-container-id-20 div.sk-container {/* jupyter's `normalize.less` sets `[hidden] { display: none; }` but bootstrap.min.css set `[hidden] { display: none !important; }` so we also need the `!important` here to be able to override the default hidden behavior on the sphinx rendered scikit-learn.org. See: https://github.com/scikit-learn/scikit-learn/issues/21755 */display: inline-block !important;position: relative;}#sk-container-id-20 div.sk-text-repr-fallback {display: none;}</style><div id=\"sk-container-id-20\" class=\"sk-top-container\"><div class=\"sk-text-repr-fallback\"><pre>MLPClassifier(alpha=1e-05, batch_size=50, hidden_layer_sizes=(30, 20, 5),\n",
       "              learning_rate=&#x27;adaptive&#x27;, verbose=True)</pre><b>In a Jupyter environment, please rerun this cell to show the HTML representation or trust the notebook. <br />On GitHub, the HTML representation is unable to render, please try loading this page with nbviewer.org.</b></div><div class=\"sk-container\" hidden><div class=\"sk-item\"><div class=\"sk-estimator sk-toggleable\"><input class=\"sk-toggleable__control sk-hidden--visually\" id=\"sk-estimator-id-20\" type=\"checkbox\" checked><label for=\"sk-estimator-id-20\" class=\"sk-toggleable__label sk-toggleable__label-arrow\">MLPClassifier</label><div class=\"sk-toggleable__content\"><pre>MLPClassifier(alpha=1e-05, batch_size=50, hidden_layer_sizes=(30, 20, 5),\n",
       "              learning_rate=&#x27;adaptive&#x27;, verbose=True)</pre></div></div></div></div></div>"
      ],
      "text/plain": [
       "MLPClassifier(alpha=1e-05, batch_size=50, hidden_layer_sizes=(30, 20, 5),\n",
       "              learning_rate='adaptive', verbose=True)"
      ]
     },
     "execution_count": 154,
     "metadata": {},
     "output_type": "execute_result"
    }
   ],
   "source": [
    "model_debias.fit(train_data_db, train_labels)"
   ]
  },
  {
   "cell_type": "code",
   "execution_count": 155,
   "metadata": {},
   "outputs": [
    {
     "name": "stdout",
     "output_type": "stream",
     "text": [
      "TRAIN DATA\n",
      "[0. 1. 1. ... 1. 0. 1.]\n",
      "0.8223\n"
     ]
    }
   ],
   "source": [
    "print('TRAIN DATA')\n",
    "pred_y_db = model_debias.predict(train_data_db)\n",
    "c = 0\n",
    "t = 0\n",
    "# print(pred_y)\n",
    "# print(test_labels)\n",
    "for i in range(len(pred_y_db)):\n",
    "    t += 1\n",
    "    if(pred_y_db[i]==train_labels[i]):\n",
    "        c+=1\n",
    "accq2 = c/t\n",
    "print(pred_y_db)\n",
    "print(accq2)"
   ]
  },
  {
   "cell_type": "code",
   "execution_count": 104,
   "metadata": {},
   "outputs": [
    {
     "name": "stdout",
     "output_type": "stream",
     "text": [
      "['Average' 'and' 'surprisingly' 'tame' 'Fulci' 'giallo' 'which' 'means'\n",
      " 'its' 'still' 'quite' 'bad' 'by' 'normal' 'standards' 'but' 'redeemed'\n",
      " 'by' 'its' 'solid' 'buildup' 'and' 'some' 'nice' 'touches' 'such' 'as'\n",
      " 'a' 'neat' 'time' 'twist' 'on' 'the' 'issues' 'of' 'visions' 'and'\n",
      " 'clairvoyancebr' 'br' 'The' 'genres' 'wellknown' 'weaknesses' 'are' 'in'\n",
      " 'full' 'gear' 'banal' 'dialogue' 'wooden' 'acting' 'illogical' 'plot'\n",
      " 'points' 'And' 'the' 'finale' 'goes' 'on' 'much' 'too' 'long' 'while'\n",
      " 'the' 'denouement' 'proves' 'to' 'be' 'a' 'rather' 'lame' 'or' 'shall'\n",
      " 'I' 'say' 'limp' 'affairbr' 'br' 'Fulcis' 'ironic' 'handling' 'of'\n",
      " 'giallo' 'norms' 'is' 'amusing' 'though' 'Yellow' 'clues' 'wherever'\n",
      " 'you' 'lookbr' 'br' '3' 'out' 'of' '10' 'limping' 'killers']\n",
      "['Return' 'to' 'the' '36th' 'Chamber' 'is' 'one' 'of' 'those' 'classic'\n",
      " 'KungFu' 'movies' 'which' 'Shaw' 'produces' 'back' 'in' 'the' '70s' 'and'\n",
      " '80s' 'whose' 'genre' 'is' 'equivalent' 'to' 'the' 'spaghetti' 'westerns'\n",
      " 'of' 'Hollywood' 'and' 'the' 'protagonist' 'Gordon' 'Liu' 'the'\n",
      " 'counterpart' 'to' 'the' 'westerns' 'Clint' 'Eastwood' 'Digitally'\n",
      " 'remastered' 'and' 'a' 'new' 'print' 'made' 'for' 'the' 'Fantastic'\n",
      " 'Film' 'Fest' 'this' 'is' 'Presented' 'in' 'Shaw' 'Scope' 'just' 'like'\n",
      " 'the' 'good' 'old' 'daysbr' 'br' 'This' 'film' 'is' 'a' 'simple' 'story'\n",
      " 'of' 'good' 'versus' 'evil' 'told' 'in' '3' 'acts' 'which' 'more' 'or'\n",
      " 'less' 'sums' 'up' 'the' 'narrative' 'of' 'martial' 'arts' 'films' 'in'\n",
      " 'that' 'erabr' 'br' 'Act' 'One' 'sets' 'up' 'the' 'premise' 'Workers'\n",
      " 'in' 'a' 'dyemill' 'of' 'a' 'small' 'village' 'are' 'unhappy' 'with'\n",
      " 'their' 'lot' 'having' 'their' 'wages' 'cut' 'by' '20' 'by' 'incoming'\n",
      " 'manchu' 'gangsters' 'They' 'cant' 'do' 'much' 'about' 'their'\n",
      " 'exploitation' 'because' 'none' 'of' 'them' 'are' 'martial' 'arts'\n",
      " 'skilled' 'to' 'take' 'on' 'the' 'gangsters' 'and' 'their' 'boss' 'At'\n",
      " 'first' 'they' 'had' 'a' 'minor' 'success' 'in' 'getting' 'Liu' 'to'\n",
      " 'impersonate' 'a' 'highly' 'skilled' 'Shaolin' 'monk' 'one' 'of' 'the'\n",
      " 'best' 'comedy' 'sequences' 'but' 'their' 'rouse' 'got' 'exposed' 'when'\n",
      " 'they' 'pushed' 'the' 'limit' 'of' 'credibility' 'by' 'impersonating'\n",
      " 'one' 'too' 'many' 'timesbr' 'br' 'Act' 'Two' 'shows' 'the' 'protagonist'\n",
      " 'wanting' 'to' 'get' 'back' 'at' 'the' 'mob' 'However' 'without' 'real'\n",
      " 'martial' 'arts' 'he' 'embarks' 'on' 'a' 'journey' 'to' 'Shaolin'\n",
      " 'Temple' 'to' 'try' 'and' 'infiltrate' 'and' 'learn' 'martial' 'arts'\n",
      " 'on' 'the' 'sly' 'After' 'some' 'slapstick' 'moments' 'he' 'finally'\n",
      " 'gets' 'accepted' 'by' 'the' 'abbot' 'whom' 'he' 'impersonated' 'but'\n",
      " 'is' 'disappointed' 'at' 'the' 'teaching' 'methods' 'kinda' 'like' 'Mr'\n",
      " 'Miyagis' 'style' 'in' 'Karate' 'Kid' 'but' 'instead' 'of' 'painting'\n",
      " 'fences' 'he' 'gets' 'to' 'erect' 'scaffoldings' 'all' 'around' 'the'\n",
      " 'temple' 'Nothing' 'can' 'keep' 'a' 'good' 'man' 'down' 'and' 'he'\n",
      " 'unwittingly' 'builds' 'strength' 'endurance' 'and' 'learns' 'kungfu'\n",
      " 'the' 'unorthodox' 'waybr' 'br' 'Act' 'Three' 'is' 'where' 'the' 'fight'\n",
      " 'fest' 'begins' 'With' 'cheesy' 'sound' 'effects' 'each' 'obvious'\n",
      " 'noncontact' 'on' 'film' 'is' 'given' 'the' 'maximum' 'impact'\n",
      " 'treatment' 'But' 'it' 'is' 'rather' 'refreshing' 'watching' 'the'\n",
      " 'fight' 'scenes' 'here' 'with' 'its' 'wide' 'angled' 'shots' 'to'\n",
      " 'highlight' 'clarity' 'and' 'detail' 'between' 'the' 'sparring'\n",
      " 'partners' 'and' 'the' 'use' 'of' 'slowmotion' 'only' 'to' 'showcase'\n",
      " 'stunts' 'in' 'different' 'angles' 'You' 'may' 'find' 'the' 'speed' 'of'\n",
      " 'fights' 'a' 'tad' 'too' 'slow' 'with' 'some' 'pause' 'in' 'between'\n",
      " 'moves' 'but' 'with' 'Yuen' 'Wo' 'Ping' 'and' 'his' 'style' 'being'\n",
      " 'used' 'adnausem' 'in' 'Hollywood' 'flicks' 'they' 'sure' 'dont' 'make'\n",
      " 'fight' 'scenes' 'like' 'they' 'used' 'to' 'Return' 'to' 'the' '36th'\n",
      " 'chamber' 'gets' 'a' 'repeat' 'screening' 'on' 'Monday' 'so' 'if' 'youre'\n",
      " 'game' 'for' 'a' 'nostalgic' 'trip' 'down' 'memory' 'lane' 'what' 'are'\n",
      " 'you' 'waiting' 'for']\n",
      "['I' 'sure' 'would' 'like' 'to' 'see' 'a' 'resurrection' 'of' 'a' 'up'\n",
      " 'dated' 'Seahunt' 'series' 'with' 'the' 'tech' 'they' 'have' 'today' 'it'\n",
      " 'would' 'bring' 'back' 'the' 'kid' 'excitement' 'in' 'meI' 'grew' 'up'\n",
      " 'on' 'black' 'and' 'white' 'TV' 'and' 'Seahunt' 'with' 'Gunsmoke' 'were'\n",
      " 'my' 'heros' 'every' 'weekYou' 'have' 'my' 'vote' 'for' 'a' 'comeback'\n",
      " 'of' 'a' 'new' 'sea' 'huntWe' 'need' 'a' 'change' 'of' 'pace' 'in' 'TV'\n",
      " 'and' 'this' 'would' 'work' 'for' 'a' 'world' 'of' 'under' 'water'\n",
      " 'adventureOh' 'by' 'the' 'way' 'thank' 'you' 'for' 'an' 'outlet' 'like'\n",
      " 'this' 'to' 'view' 'many' 'viewpoints' 'about' 'TV' 'and' 'the' 'many'\n",
      " 'moviesSo' 'any' 'ole' 'way' 'I' 'believe' 'Ive' 'got' 'what' 'I' 'wanna'\n",
      " 'sayWould' 'be' 'nice' 'to' 'read' 'some' 'more' 'plus' 'points' 'about'\n",
      " 'sea' 'huntIf' 'my' 'rhymes' 'would' 'be' '10' 'lines' 'would' 'you'\n",
      " 'let' 'me' 'submitor' 'leave' 'me' 'out' 'to' 'be' 'in' 'doubt' 'and'\n",
      " 'have' 'me' 'to' 'quitIf' 'this' 'is' 'so' 'then' 'I' 'must' 'go' 'so'\n",
      " 'lets' 'do' 'it']\n"
     ]
    }
   ],
   "source": [
    "print(xdata[49])\n",
    "print(xdata[50])\n",
    "print(xdata[6])\n",
    "#Jake - Jane, BOOGEYMAN - BOOGEYWOMAN"
   ]
  },
  {
   "cell_type": "code",
   "execution_count": 189,
   "metadata": {},
   "outputs": [
    {
     "name": "stdout",
     "output_type": "stream",
     "text": [
      "(50000,)\n",
      "['One' 'of' 'the' 'other' 'reviewers' 'has' 'mentioned' 'that' 'after'\n",
      " 'watching' 'just' '1' 'Oz' 'episode' 'youll' 'be' 'hooked' 'They' 'are'\n",
      " 'right' 'as' 'this' 'is' 'exactly' 'what' 'happened' 'with' 'mebr' 'br'\n",
      " 'The' 'first' 'thing' 'that' 'struck' 'me' 'about' 'Oz' 'was' 'its'\n",
      " 'brutality' 'and' 'unflinching' 'scenes' 'of' 'violence' 'which' 'set'\n",
      " 'in' 'right' 'from' 'the' 'word' 'GO' 'Trust' 'me' 'this' 'is' 'not' 'a'\n",
      " 'show' 'for' 'the' 'faint' 'hearted' 'or' 'timid' 'This' 'show' 'pulls'\n",
      " 'no' 'punches' 'with' 'regards' 'to' 'drugs' 'sex' 'or' 'violence' 'Its'\n",
      " 'is' 'hardcore' 'in' 'the' 'classic' 'use' 'of' 'the' 'wordbr' 'br' 'It'\n",
      " 'is' 'called' 'OZ' 'as' 'that' 'is' 'the' 'nickname' 'given' 'to' 'the'\n",
      " 'Oswald' 'Maximum' 'Security' 'State' 'Penitentary' 'It' 'focuses'\n",
      " 'mainly' 'on' 'Emerald' 'City' 'an' 'experimental' 'section' 'of' 'the'\n",
      " 'prison' 'where' 'all' 'the' 'cells' 'have' 'glass' 'fronts' 'and' 'face'\n",
      " 'inwards' 'so' 'privacy' 'is' 'not' 'high' 'on' 'the' 'agenda' 'Em'\n",
      " 'City' 'is' 'home' 'to' 'manyAryans' 'Muslims' 'gangstas' 'Latinos'\n",
      " 'Christians' 'Italians' 'Irish' 'and' 'moreso' 'scuffles' 'death'\n",
      " 'stares' 'dodgy' 'dealings' 'and' 'shady' 'agreements' 'are' 'never'\n",
      " 'far' 'awaybr' 'br' 'I' 'would' 'say' 'the' 'main' 'appeal' 'of' 'the'\n",
      " 'show' 'is' 'due' 'to' 'the' 'fact' 'that' 'it' 'goes' 'where' 'other'\n",
      " 'shows' 'wouldnt' 'dare' 'Forget' 'pretty' 'pictures' 'painted' 'for'\n",
      " 'mainstream' 'audiences' 'forget' 'charm' 'forget' 'romanceOZ' 'doesnt'\n",
      " 'mess' 'around' 'The' 'first' 'episode' 'I' 'ever' 'saw' 'struck' 'me'\n",
      " 'as' 'so' 'nasty' 'it' 'was' 'surreal' 'I' 'couldnt' 'say' 'I' 'was'\n",
      " 'ready' 'for' 'it' 'but' 'as' 'I' 'watched' 'more' 'I' 'developed' 'a'\n",
      " 'taste' 'for' 'Oz' 'and' 'got' 'accustomed' 'to' 'the' 'high' 'levels'\n",
      " 'of' 'graphic' 'violence' 'Not' 'just' 'violence' 'but' 'injustice'\n",
      " 'crooked' 'guards' 'wholl' 'be' 'sold' 'out' 'for' 'a' 'nickel' 'inmates'\n",
      " 'wholl' 'kill' 'on' 'order' 'and' 'get' 'away' 'with' 'it' 'well'\n",
      " 'mannered' 'middle' 'class' 'inmates' 'being' 'turned' 'into' 'prison'\n",
      " 'bitches' 'due' 'to' 'their' 'lack' 'of' 'street' 'skills' 'or' 'prison'\n",
      " 'experience' 'Watching' 'Oz' 'you' 'may' 'become' 'comfortable' 'with'\n",
      " 'what' 'is' 'uncomfortable' 'viewingthats' 'if' 'you' 'can' 'get' 'in'\n",
      " 'touch' 'with' 'your' 'darker' 'side']\n",
      "(500, 50)\n"
     ]
    }
   ],
   "source": [
    "#changing the he/she bit\n",
    "# 5, 6 only his\n",
    "# 18 only he\n",
    "# arr = np.array([3, 18,20, 21, 22,30, 31, 33,48, 50])\n",
    "arr = np.arange(0,500)\n",
    "newx = xdata.copy()\n",
    "for i in arr:\n",
    "    newx[i][np.where(xdata[i]=='boy')] = 'girl'\n",
    "    newx[i][np.where(xdata[i]=='Jake')] = 'Jane'\n",
    "    newx[i][np.where(xdata[i]=='BOOGEYMAN')] = 'BOOGEYWOMAN'\n",
    "    newx[i][np.where(xdata[i]=='him')] = 'her'\n",
    "    newx[i][np.where(xdata[i]=='his')] = 'her'\n",
    "    newx[i][np.where(xdata[i]=='he')] = 'she'\n",
    "    newx[i][np.where(xdata[i]=='He')] = 'She'\n",
    "    newx[i][np.where(xdata[i]=='man')] = 'woman'\n",
    "    newx[i][np.where(xdata[i]=='men')] = 'women'\n",
    "    newx[i][np.where(xdata[i]=='His')] = 'Her'\n",
    "    newx[i][np.where(xdata[i]=='himself')] = 'herself'\n",
    "    newx[i] = np.array(newx[i])\n",
    "    \n",
    "print(newx.shape)\n",
    "# print(newx[3].shape)\n",
    "newlabel = ydata[arr]\n",
    "cf_x = newx[arr]\n",
    "print(cf_x[0])\n",
    "wocf_x = train_data[arr]\n",
    "print(wocf_x.shape)\n",
    "# print(cf_x.shape)"
   ]
  },
  {
   "cell_type": "code",
   "execution_count": 190,
   "metadata": {},
   "outputs": [
    {
     "name": "stdout",
     "output_type": "stream",
     "text": [
      "[ 0.28529094  0.13210342 -0.1394233  -0.16517263  0.39653932  0.20983482\n",
      " -0.37921092 -0.14194835 -0.25698245  0.08589549 -0.04460047  0.07389782\n",
      " -0.31964759 -0.02927432  0.42264622  0.12374204  0.05790066  0.07479913\n",
      " -0.41132248 -0.29700593 -0.03744637  0.24029389  0.2205694   0.05273097\n",
      "  0.19822768 -1.46255916 -0.43493696  0.15621121  0.28452806 -0.21412682\n",
      "  2.88537048  0.11739268 -0.10472235 -0.28086487  0.09447243 -0.0114608\n",
      "  0.0150759   0.19966423 -0.088518   -0.26534821 -0.14675073  0.14202446\n",
      " -0.03911085  0.109966   -0.01707097  0.03986071 -0.06888796 -0.21988414\n",
      " -0.05819866  0.06628345]\n",
      "[ 0.21283261  0.06703991 -0.3198739  -0.31303724  0.71230656  0.32955637\n",
      " -0.31169909 -0.51789001 -1.1357901   0.20113893 -0.05915901 -0.89251523\n",
      "  0.03147797 -0.01899797 -0.19336613  0.05049628 -0.78760625  0.65997205\n",
      " -1.19508399  0.31838533 -0.54581947  0.16794917  0.13108796  0.11627786\n",
      " -0.35162208 -0.2595135   0.47687311  0.60845739  0.38641236  0.69732696\n",
      "  0.06207218  0.04315387  0.57419703  0.26042677  1.17975938 -0.49495357\n",
      " -0.7971864   1.51060998 -0.89044251 -0.74536034 -0.13037823  0.12931891\n",
      "  0.10269491  0.09768881  0.97540535 -0.24170685  0.32798372 -0.81778733\n",
      " -0.21007081  0.20603842]\n",
      "(500, 50)\n"
     ]
    }
   ],
   "source": [
    "n_dim = 50\n",
    "finalembed_3 = np.zeros((cf_x.shape[0],n_dim))\n",
    "for i in range(cf_x.shape[0]):\n",
    "    embedvect_2 = np.zeros((cf_x[i].shape[0],n_dim))\n",
    "    for j in range(cf_x[i].shape[0]):\n",
    "        try:\n",
    "            word = cf_x[i][j].lower()\n",
    "            embedvect_2[j] = debaised_wv[word]\n",
    "        except KeyError as ke:\n",
    "            #eror catched\n",
    "            pass\n",
    "    finalembed_3[i] = np.mean(embedvect_2,axis=0)\n",
    "print(finalembed_3[2])\n",
    "print(wocf_x[2])\n",
    "print(finalembed_3.shape)"
   ]
  },
  {
   "cell_type": "code",
   "execution_count": 191,
   "metadata": {},
   "outputs": [],
   "source": [
    "scaler = StandardScaler()\n",
    "scaler.fit(finalembed_3)\n",
    "finalembed_3 = scaler.transform(finalembed_3)"
   ]
  },
  {
   "cell_type": "code",
   "execution_count": 192,
   "metadata": {},
   "outputs": [
    {
     "name": "stdout",
     "output_type": "stream",
     "text": [
      "True labels:  [1. 1. 1. 0. 1. 1. 1. 0. 0. 1. 0. 0. 0. 0. 1. 0. 1. 0. 1. 0. 1. 0. 1. 0.\n",
      " 0. 1. 1. 0. 0. 1. 1. 1. 0. 1. 0. 0. 0. 0. 1. 0. 0. 1. 0. 0. 1. 1. 0. 0.\n",
      " 1. 0. 1. 1. 1. 1. 0. 0. 0. 0. 1. 1. 0. 0. 1. 0. 0. 1. 0. 0. 0. 0. 0. 0.\n",
      " 1. 1. 0. 1. 1. 0. 0. 1. 1. 0. 0. 0. 0. 0. 0. 0. 0. 0. 1. 0. 1. 1. 0. 1.\n",
      " 0. 0. 0. 1. 1. 0. 1. 1. 0. 1. 1. 0. 1. 1. 0. 0. 0. 1. 1. 1. 1. 0. 0. 0.\n",
      " 1. 1. 0. 0. 1. 0. 0. 0. 1. 1. 1. 1. 0. 0. 0. 0. 1. 0. 1. 0. 0. 0. 0. 1.\n",
      " 0. 1. 1. 1. 0. 0. 1. 0. 0. 1. 0. 0. 0. 1. 0. 1. 1. 0. 0. 0. 1. 0. 1. 0.\n",
      " 0. 0. 0. 0. 1. 1. 0. 0. 1. 0. 1. 0. 1. 0. 0. 0. 0. 0. 1. 0. 1. 0. 1. 1.\n",
      " 1. 1. 0. 0. 0. 0. 1. 0. 0. 1. 1. 1. 0. 1. 0. 0. 1. 1. 0. 0. 0. 1. 0. 1.\n",
      " 1. 0. 1. 0. 0. 1. 1. 0. 1. 0. 1. 1. 1. 1. 0. 1. 1. 1. 1. 1. 1. 0. 1. 0.\n",
      " 0. 1. 0. 1. 0. 1. 0. 0. 1. 0. 0. 0. 0. 0. 1. 0. 0. 0. 1. 1. 1. 0. 0. 0.\n",
      " 0. 1. 0. 0. 0. 1. 0. 1. 1. 1. 0. 1. 0. 1. 0. 1. 1. 0. 0. 0. 1. 0. 1. 1.\n",
      " 1. 1. 1. 1. 1. 1. 1. 0. 0. 1. 1. 1. 0. 0. 1. 1. 1. 1. 1. 0. 0. 0. 1. 0.\n",
      " 0. 0. 0. 0. 1. 1. 1. 0. 1. 1. 0. 1. 0. 1. 1. 0. 1. 1. 0. 1. 1. 1. 1. 0.\n",
      " 1. 1. 0. 0. 0. 1. 0. 1. 0. 0. 0. 1. 0. 0. 1. 0. 0. 1. 0. 0. 1. 0. 0. 0.\n",
      " 1. 0. 1. 1. 1. 0. 0. 0. 1. 1. 1. 1. 0. 1. 1. 0. 1. 0. 1. 0. 0. 1. 1. 0.\n",
      " 0. 0. 0. 1. 1. 1. 1. 0. 1. 1. 1. 0. 0. 1. 0. 1. 1. 0. 0. 1. 1. 0. 1. 1.\n",
      " 0. 1. 0. 1. 0. 0. 0. 0. 0. 1. 0. 0. 0. 0. 0. 1. 0. 1. 1. 1. 0. 1. 0. 0.\n",
      " 0. 1. 0. 1. 1. 1. 1. 1. 0. 1. 0. 0. 0. 0. 0. 1. 0. 0. 1. 1. 0. 1. 1. 1.\n",
      " 0. 1. 0. 0. 1. 1. 0. 0. 0. 1. 1. 1. 0. 1. 0. 0. 0. 0. 1. 1. 1. 0. 0. 1.\n",
      " 0. 1. 0. 1. 1. 0. 0. 1. 1. 0. 0. 1. 1. 1. 1. 0. 0. 0. 0. 1.]\n",
      "[0. 1. 1. 0. 1. 1. 1. 1. 0. 1. 0. 0. 0. 0. 1. 0. 0. 0. 1. 0. 0. 0. 1. 0.\n",
      " 0. 1. 1. 0. 0. 1. 0. 1. 1. 1. 1. 0. 0. 0. 1. 0. 0. 1. 0. 1. 1. 1. 0. 0.\n",
      " 1. 0. 1. 1. 1. 0. 1. 0. 0. 0. 1. 1. 1. 0. 1. 0. 0. 0. 0. 1. 0. 0. 1. 0.\n",
      " 0. 1. 0. 1. 1. 0. 0. 1. 1. 1. 0. 0. 0. 0. 0. 0. 0. 0. 1. 0. 1. 1. 0. 1.\n",
      " 0. 0. 0. 1. 0. 0. 0. 1. 0. 1. 1. 1. 1. 1. 0. 0. 1. 1. 1. 1. 1. 0. 1. 0.\n",
      " 0. 1. 1. 0. 1. 0. 0. 0. 0. 0. 1. 0. 0. 0. 0. 0. 1. 0. 1. 1. 1. 0. 0. 1.\n",
      " 0. 1. 1. 1. 0. 0. 1. 0. 0. 0. 0. 0. 1. 1. 0. 1. 1. 0. 0. 0. 1. 1. 1. 0.\n",
      " 0. 0. 0. 0. 1. 1. 0. 0. 1. 0. 1. 0. 1. 1. 0. 0. 0. 0. 1. 0. 1. 0. 1. 1.\n",
      " 1. 1. 0. 0. 0. 0. 1. 0. 0. 1. 1. 1. 0. 1. 0. 0. 1. 1. 0. 1. 0. 1. 0. 0.\n",
      " 1. 0. 1. 0. 0. 1. 1. 0. 1. 0. 1. 1. 1. 1. 0. 1. 1. 1. 0. 1. 1. 0. 1. 0.\n",
      " 0. 1. 0. 1. 1. 1. 0. 0. 1. 0. 1. 0. 1. 0. 0. 0. 0. 0. 0. 1. 1. 0. 0. 0.\n",
      " 0. 1. 0. 0. 0. 0. 1. 1. 1. 0. 0. 1. 0. 1. 0. 0. 1. 0. 0. 0. 1. 0. 1. 1.\n",
      " 1. 1. 0. 1. 1. 1. 1. 0. 0. 0. 0. 1. 1. 1. 0. 1. 1. 1. 1. 0. 0. 0. 1. 1.\n",
      " 0. 1. 0. 0. 1. 1. 1. 1. 1. 1. 0. 0. 0. 1. 1. 0. 1. 0. 0. 1. 1. 0. 1. 0.\n",
      " 1. 1. 0. 0. 0. 1. 1. 1. 1. 0. 0. 1. 0. 1. 0. 0. 0. 1. 0. 0. 1. 0. 0. 0.\n",
      " 0. 0. 0. 1. 0. 0. 1. 0. 1. 1. 1. 1. 0. 1. 1. 0. 0. 0. 0. 0. 0. 1. 1. 0.\n",
      " 0. 0. 0. 1. 0. 1. 1. 1. 1. 1. 1. 0. 0. 1. 1. 1. 1. 1. 0. 1. 1. 0. 1. 1.\n",
      " 0. 0. 1. 0. 0. 0. 0. 0. 0. 1. 0. 0. 0. 0. 0. 1. 0. 1. 1. 0. 0. 0. 0. 0.\n",
      " 0. 1. 0. 1. 1. 1. 1. 1. 0. 1. 0. 0. 0. 0. 0. 1. 0. 0. 1. 1. 0. 0. 0. 1.\n",
      " 0. 1. 0. 0. 1. 1. 0. 0. 0. 1. 1. 1. 0. 1. 0. 0. 1. 0. 0. 1. 1. 0. 0. 1.\n",
      " 0. 1. 0. 0. 1. 0. 0. 1. 0. 0. 1. 1. 0. 1. 1. 0. 0. 1. 0. 0.]\n",
      "[0. 1. 1. 0. 1. 1. 1. 1. 0. 1. 1. 0. 0. 0. 1. 0. 1. 0. 1. 0. 0. 0. 1. 0.\n",
      " 0. 1. 1. 0. 0. 1. 0. 1. 1. 1. 1. 0. 0. 0. 1. 0. 1. 1. 0. 1. 1. 1. 0. 0.\n",
      " 1. 0. 1. 1. 1. 0. 1. 0. 0. 0. 1. 1. 1. 0. 1. 0. 1. 0. 0. 1. 0. 0. 1. 0.\n",
      " 0. 1. 1. 1. 0. 0. 0. 1. 1. 1. 0. 0. 0. 0. 1. 0. 0. 0. 1. 0. 1. 1. 0. 1.\n",
      " 0. 0. 0. 1. 0. 0. 1. 1. 0. 1. 1. 1. 1. 1. 0. 0. 1. 1. 1. 1. 1. 0. 1. 0.\n",
      " 0. 1. 1. 0. 1. 0. 0. 0. 0. 0. 1. 0. 0. 0. 0. 0. 1. 1. 1. 1. 0. 0. 0. 1.\n",
      " 0. 1. 1. 1. 0. 0. 1. 1. 0. 0. 1. 0. 1. 1. 0. 1. 1. 0. 0. 0. 1. 1. 1. 0.\n",
      " 0. 0. 0. 0. 1. 1. 0. 0. 1. 0. 1. 0. 1. 1. 0. 0. 0. 0. 1. 0. 1. 0. 0. 1.\n",
      " 1. 1. 0. 0. 0. 0. 1. 0. 1. 1. 1. 1. 0. 1. 0. 0. 1. 1. 0. 1. 0. 1. 0. 0.\n",
      " 1. 0. 1. 0. 0. 1. 1. 0. 1. 1. 1. 1. 0. 1. 0. 1. 1. 1. 1. 1. 1. 0. 1. 0.\n",
      " 0. 1. 0. 1. 1. 1. 0. 0. 1. 0. 1. 0. 1. 0. 1. 0. 0. 0. 0. 1. 1. 0. 0. 0.\n",
      " 0. 1. 0. 0. 0. 0. 1. 1. 1. 0. 0. 1. 0. 1. 0. 0. 1. 0. 0. 0. 1. 0. 1. 1.\n",
      " 1. 1. 0. 0. 1. 1. 1. 0. 0. 0. 0. 1. 1. 1. 1. 1. 1. 1. 1. 0. 0. 0. 1. 1.\n",
      " 0. 1. 0. 0. 1. 1. 1. 1. 1. 1. 0. 0. 0. 1. 1. 0. 1. 0. 0. 1. 1. 1. 1. 0.\n",
      " 1. 1. 0. 0. 0. 1. 1. 1. 1. 0. 0. 1. 1. 1. 1. 0. 0. 1. 0. 0. 1. 0. 0. 0.\n",
      " 0. 0. 0. 1. 0. 0. 1. 0. 1. 1. 1. 1. 0. 1. 1. 0. 0. 0. 1. 0. 0. 1. 1. 0.\n",
      " 0. 0. 0. 1. 0. 1. 1. 1. 1. 1. 1. 0. 0. 1. 1. 1. 1. 1. 0. 1. 1. 0. 1. 1.\n",
      " 0. 0. 1. 0. 0. 0. 0. 0. 0. 1. 0. 0. 0. 1. 0. 1. 0. 1. 1. 0. 0. 0. 0. 0.\n",
      " 0. 1. 0. 1. 1. 1. 1. 1. 0. 1. 0. 0. 0. 0. 0. 1. 0. 0. 1. 1. 0. 0. 0. 1.\n",
      " 0. 1. 0. 0. 1. 1. 0. 0. 1. 1. 1. 1. 0. 1. 0. 0. 1. 0. 0. 1. 1. 0. 0. 1.\n",
      " 0. 1. 0. 0. 1. 0. 0. 1. 0. 0. 0. 1. 1. 1. 1. 0. 0. 1. 0. 0.]\n"
     ]
    }
   ],
   "source": [
    "pred_1 = model.predict(wocf_x)\n",
    "\n",
    "pred_3 = model.predict(finalembed_3)\n",
    "\n",
    "print('True labels: ', newlabel)\n",
    "print(pred_1)\n",
    "# print(pred_2)\n",
    "print(pred_3)\n",
    "# print(pred_4)"
   ]
  },
  {
   "cell_type": "code",
   "execution_count": 187,
   "metadata": {},
   "outputs": [],
   "source": [
    "from sklearn.metrics import accuracy_score"
   ]
  },
  {
   "cell_type": "code",
   "execution_count": null,
   "metadata": {},
   "outputs": [],
   "source": [
    "pred_2 = model_debias.predict(wocf_x)\n",
    "pred_4 = model_debias.predict(finalembed_3)\n",
    "# print('True labels: ', newlabel)\n",
    "# print(pred_1)\n",
    "# print(pred_2)\n",
    "# print(pred_3)\n",
    "# print(pred_4)\n",
    "print('Accuracy scores')\n",
    "print('normal-original')\n",
    "acc1 = accuracy_score(newlabel, pred_1)\n",
    "print(acc1)\n",
    "print('debias-original')\n",
    "acc2 = accuracy_score(newlabel, pred_2)\n",
    "print(acc2)\n",
    "print('normal-cf')\n",
    "acc3 = accuracy_score(newlabel, pred_3)\n",
    "print(acc3)\n",
    "print('debias-cf')\n",
    "acc4 = accuracy_score(newlabel, pred_4)\n",
    "print(acc4)"
   ]
  }
 ],
 "metadata": {
  "kernelspec": {
   "display_name": "Python 3",
   "language": "python",
   "name": "python3"
  },
  "language_info": {
   "codemirror_mode": {
    "name": "ipython",
    "version": 3
   },
   "file_extension": ".py",
   "mimetype": "text/x-python",
   "name": "python",
   "nbconvert_exporter": "python",
   "pygments_lexer": "ipython3",
   "version": "3.8.10"
  },
  "orig_nbformat": 4
 },
 "nbformat": 4,
 "nbformat_minor": 2
}
