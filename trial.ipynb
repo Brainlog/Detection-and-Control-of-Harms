{
 "cells": [
  {
   "cell_type": "code",
   "execution_count": 34,
   "metadata": {},
   "outputs": [],
   "source": [
    "import numpy as np\n",
    "import string\n",
    "regular_punct = list(string.punctuation)"
   ]
  },
  {
   "cell_type": "code",
   "execution_count": 38,
   "metadata": {},
   "outputs": [
    {
     "name": "stdout",
     "output_type": "stream",
     "text": [
      "['abc, <br> def' 'ghi. jkl' 'mno pqr']\n",
      "['abc' 'br' 'def']\n",
      "['abc' 'br' 'def']\n",
      "['ghi' 'jkl']\n",
      "['ghi' 'jkl']\n",
      "['mno' 'pqr']\n",
      "['mno' 'pqr']\n",
      "[array(['abc', 'br', 'def'], dtype='<U3')\n",
      " array(['ghi', 'jkl'], dtype='<U3') array(['mno', 'pqr'], dtype='<U3')]\n"
     ]
    },
    {
     "name": "stderr",
     "output_type": "stream",
     "text": [
      "/tmp/ipykernel_38021/150828837.py:14: VisibleDeprecationWarning: Creating an ndarray from ragged nested sequences (which is a list-or-tuple of lists-or-tuples-or ndarrays with different lengths or shapes) is deprecated. If you meant to do this, you must specify 'dtype=object' when creating the ndarray.\n",
      "  y = np.array(x)\n"
     ]
    }
   ],
   "source": [
    "s = [\"abc, <br> def\", \"ghi. jkl\", \"mno pqr\"]\n",
    "t = np.array(s)\n",
    "print(t)\n",
    "x = []\n",
    "for i in range(len(t)):\n",
    "    translating = str.maketrans('', '', string.punctuation)\n",
    "    z = t[i].translate(translating)\n",
    "    z =  np.array(z.split(' '))\n",
    "    print(z)\n",
    "    res = np.where(z != '<br>')\n",
    "    r = z[res]\n",
    "    print(r)\n",
    "    x.append(z)\n",
    "y = np.array(x)\n",
    "print(y)"
   ]
  }
 ],
 "metadata": {
  "kernelspec": {
   "display_name": "Python 3",
   "language": "python",
   "name": "python3"
  },
  "language_info": {
   "codemirror_mode": {
    "name": "ipython",
    "version": 3
   },
   "file_extension": ".py",
   "mimetype": "text/x-python",
   "name": "python",
   "nbconvert_exporter": "python",
   "pygments_lexer": "ipython3",
   "version": "3.8.10"
  },
  "orig_nbformat": 4
 },
 "nbformat": 4,
 "nbformat_minor": 2
}
